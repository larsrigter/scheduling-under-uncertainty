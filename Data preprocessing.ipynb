{
 "cells": [
  {
   "cell_type": "code",
   "execution_count": 1,
   "metadata": {},
   "outputs": [],
   "source": [
    "import pandas as pd\n",
    "from datetime import timedelta,time,datetime\n",
    "import numpy as np\n",
    "import matplotlib.pyplot as plt\n",
    "import copy\n",
    "from sklearn.utils import shuffle\n",
    "import datetime as DateTime\n",
    "import pickle\n",
    "from utilities import *"
   ]
  },
  {
   "cell_type": "code",
   "execution_count": 4,
   "metadata": {},
   "outputs": [],
   "source": [
    "chargeSessionFile=\"data sets/transactions_2018_orig.csv\"\n",
    "intraDayFile='data sets/intraday_amp.xlsx'\n",
    "dayAheadFile='data sets/Day-ahead Prices_201901010000-202001010000.csv'\n",
    "save=True\n",
    "intervalLength=5"
   ]
  },
  {
   "cell_type": "code",
   "execution_count": 5,
   "metadata": {},
   "outputs": [
    {
     "name": "stderr",
     "output_type": "stream",
     "text": [
      "C:\\Users\\larsr\\Anaconda3\\lib\\site-packages\\ipykernel_launcher.py:3: ParserWarning: Falling back to the 'python' engine because the 'c' engine does not support regex separators (separators > 1 char and different from '\\s+' are interpreted as regex); you can avoid this warning by specifying engine='python'.\n",
      "  This is separate from the ipykernel package so we can avoid doing imports until\n"
     ]
    }
   ],
   "source": [
    "#read data files\n",
    "df=pd.read_csv(chargeSessionFile,delimiter=',')\n",
    "priceDf=pd.read_csv(dayAheadFile,delimiter=',\"')\n",
    "intraDay=pd.read_excel(intraDayFile)"
   ]
  },
  {
   "cell_type": "markdown",
   "metadata": {},
   "source": [
    "# Preprocess EV charge sessions data"
   ]
  },
  {
   "cell_type": "code",
   "execution_count": 6,
   "metadata": {},
   "outputs": [],
   "source": [
    "#convert data types and clean fields\n",
    "df=df.sort_values(by='Started')\n",
    "df['Started']=pd.to_datetime(df['Started'])\n",
    "df['Ended']=pd.to_datetime(df['Ended'])\n",
    "\n",
    "df['end_time']=df['Ended'].apply(lambda x: x.time())\n",
    "df['start_time']=df['Started'].apply(lambda x: x.time())\n",
    "df=df[(df['ChargeTime']>0)&(df['ChargeTime']<=24)]\n",
    "df['AveragePower']=df['TotalEnergy']/df['ChargeTime']\n",
    "df['AveragePower']=df['AveragePower'].astype(int)"
   ]
  },
  {
   "cell_type": "code",
   "execution_count": 7,
   "metadata": {},
   "outputs": [
    {
     "name": "stdout",
     "output_type": "stream",
     "text": [
      "charge profiles:  0.02026492684855674 0.6658758402530645 0.2981415579280348 0.01571767497034401\n"
     ]
    }
   ],
   "source": [
    "#investigate different charge patterns\n",
    "#charged on full capacity\n",
    "fullCharged1=copy.deepcopy(df[(df['MaxPower']<=df['AveragePower'])&(df['ChargeTime']<df['ConnectedTime'])])\n",
    "\n",
    "#charged on semi full capacity\n",
    "fullCharged2=copy.deepcopy(df[(df['MaxPower']>df['AveragePower'])&(df['ChargeTime']<df['ConnectedTime'])])\n",
    "\n",
    "lackCapacity=copy.deepcopy(df[(df['MaxPower']>df['AveragePower'])&(df['ChargeTime']>=df['ConnectedTime'])])\n",
    "shortTime=copy.deepcopy(df[(df['MaxPower']<=df['AveragePower'])&(df['ChargeTime']>=df['ConnectedTime'])])\n",
    "\n",
    "print(\"charge profiles: \",len(fullCharged1)/len(df),len(fullCharged2)/len(df),len(lackCapacity)/len(df),len(shortTime)/len(df))\n"
   ]
  },
  {
   "cell_type": "code",
   "execution_count": 8,
   "metadata": {},
   "outputs": [],
   "source": [
    "#adjust according to charge profiles\n",
    "lackCapacity['ChargeTime']=lackCapacity['TotalEnergy']/(lackCapacity['MaxPower'])\n",
    "fullCharged2['ChargeTime']=fullCharged2['TotalEnergy']/(fullCharged2['MaxPower'])\n",
    "\n",
    "df=pd.concat([fullCharged1,fullCharged2,lackCapacity,shortTime],axis=0)\n"
   ]
  },
  {
   "cell_type": "code",
   "execution_count": 9,
   "metadata": {},
   "outputs": [],
   "source": [
    "#extract jobs that last multiple days\n",
    "conTime=df[(df['ConnectedTime']>=24)|(df['start_time']>df['end_time'])]\n",
    "longStays=copy.deepcopy(conTime)\n",
    "df=df[(df['ConnectedTime']<=24)&(df['start_time']<df['end_time'])]"
   ]
  },
  {
   "cell_type": "code",
   "execution_count": 10,
   "metadata": {},
   "outputs": [],
   "source": [
    "#cut jobs that last multiple days\n",
    "newRows=[]\n",
    "for row in longStays.iterrows():\n",
    "    if row[1]['Ended'].hour==0 and row[1]['Ended'].minute==0:\n",
    "        row[1]['Ended']-=timedelta(minutes=1)\n",
    "        row[1]['TotalEnergy']-=(1/60)*row[1]['MaxPower']\n",
    "        row[1]['ChargeTime']-=(1/60)\n",
    "        newRows.append(row[1])\n",
    "        continue\n",
    "    firstPart=copy.deepcopy(row[1])\n",
    "    secondPart=copy.deepcopy(row[1])\n",
    "        \n",
    "    firstPart['Ended']=firstPart['Started'].replace(hour=23,minute=59,second=58)\n",
    "    secondPart['Started']=(firstPart['Ended']+ timedelta(seconds=3))\n",
    "    \n",
    "    firstPart['ConnectedTime']=np.round((firstPart['Ended']-firstPart['Started']).seconds/3600,1)\n",
    "    #minimum connected time of one day\n",
    "    if secondPart['ConnectedTime']-firstPart['ConnectedTime']>=24:\n",
    "        secondPart['Ended']=secondPart['Started'].replace(hour=23,minute=59,second=58)\n",
    "    else:\n",
    "        secondPart['Ended']=secondPart['Started']+timedelta(hours=secondPart['ConnectedTime']-firstPart['ConnectedTime'])\n",
    "    \n",
    "    secondPart['ConnectedTime']=np.round((secondPart['Ended']-secondPart['Started']).seconds/3600,1)\n",
    "    \n",
    "    totalConnectedTime=secondPart['ConnectedTime']+firstPart['ConnectedTime']\n",
    "    totalChargeTime=firstPart['ChargeTime']\n",
    "    firstPart['ChargeTime']=np.round((firstPart['ConnectedTime']/totalConnectedTime)*totalChargeTime,1)\n",
    "    secondPart['ChargeTime']=np.round((secondPart['ConnectedTime']/totalConnectedTime)*totalChargeTime,1)\n",
    "    \n",
    "    \n",
    "    firstPart['TotalEnergy']=int(firstPart['MaxPower']*firstPart['ChargeTime'])\n",
    "    secondPart['TotalEnergy']=int(secondPart['MaxPower']*(secondPart['ChargeTime']))\n",
    "    newRows.append(firstPart)\n",
    "    newRows.append(secondPart)\n",
    "df=pd.concat([df,pd.DataFrame(newRows)],axis=0).reset_index()\n",
    "df=df[df['ChargeTime']>0]\n",
    "df=shuffle(df)"
   ]
  },
  {
   "cell_type": "code",
   "execution_count": 11,
   "metadata": {},
   "outputs": [],
   "source": [
    "#check for valid start and end time\n",
    "df['end_time']=df['Ended'].apply(lambda x: x.time().replace(microsecond=0))\n",
    "df['start_time']=df['Started'].apply(lambda x: x.time().replace(microsecond=0))\n",
    "\n",
    "if len(df[df['start_time']>df['end_time']])>0 or len(df[df['Started']>df['Ended']])>0:\n",
    "    print(\"still invalid start and end time\",len(df[df['start_time']>df['end_time']]))\n",
    "    \n",
    "df=df[df['start_time']<=df['end_time']]\n",
    "df=df[df['ChargeTime']>0]\n",
    "df['weekday']=df['Started'].apply(lambda x: x.dayofweek)\n",
    "\n"
   ]
  },
  {
   "cell_type": "code",
   "execution_count": 12,
   "metadata": {},
   "outputs": [
    {
     "name": "stderr",
     "output_type": "stream",
     "text": [
      "C:\\Users\\larsr\\Anaconda3\\lib\\site-packages\\ipykernel_launcher.py:8: FutureWarning: Method .as_matrix will be removed in a future version. Use .values instead.\n",
      "  \n"
     ]
    }
   ],
   "source": [
    "#aggregate on 6 weeks\n",
    "weeks=6\n",
    "nrs=int(len(df)/weeks)\n",
    "bound=0\n",
    "days=[]\n",
    "dayCount=0\n",
    "for i in range(weeks):\n",
    "    subDf=df[bound:bound+nrs]['weekday'].as_matrix()\n",
    "    bound+=nrs\n",
    "    for i in subDf:\n",
    "        days.append(i+dayCount)\n",
    "    \n",
    "    dayCount+=7\n",
    "df=df[0:nrs*6]\n",
    "df['days_for_aggregation']=days\n"
   ]
  },
  {
   "cell_type": "code",
   "execution_count": 13,
   "metadata": {},
   "outputs": [],
   "source": [
    "#calculate fields\n",
    "df['start_month']=df['Started'].apply(lambda x: x.month)\n",
    "df['start_hour']=df['Started'].apply(lambda x: x.hour)\n",
    "df['start_year']=df['Started'].apply(lambda x: x.year)\n",
    "df['day']=df['Started'].apply(lambda x: x.day)\n",
    "df['end minute']=df['end_time'].apply(lambda x: x.minute)\n",
    "\n",
    "df['connected_time']=df['Ended']-df['Started']\n",
    "df['charge_timeObj']=df['ChargeTime']*60\n",
    "df['charge_timeObj']=df['charge_timeObj'].apply(lambda x: timedelta(minutes=int(x)))\n",
    "\n",
    "df['EndCharge']=df['Started']+df['charge_timeObj']\n",
    "df['arrival_time']=df['Started']\n",
    "df['arrival_time']=df['arrival_time'].apply(lambda x:x.replace(second=0))\n",
    "df['due_time']=df['Ended']\n",
    "\n",
    "df=df[df['connected_time']>timedelta(minutes=10)]\n",
    "df['latest_start_time']=df['Ended']-df['charge_timeObj']\n",
    "df['AveragePowerConnTime']=df['TotalEnergy']/df['ConnectedTime']\n",
    "try:\n",
    "    df=df.drop(['index','Unnamed: 0', 'end_time','end minute','connected_time','charge_timeObj'],axis=1)\n",
    "except:\n",
    "    print(\"nothing to drop\")\n",
    "df['MaxPower(KW)']=df['MaxPower']/1000\n",
    "df['TotalEnergy(KWh)']=df['TotalEnergy']/1000\n",
    "df['arrival_time']=df['arrival_time'].apply(lambda x: x.time())\n",
    "df['due_time']=df['due_time'].apply(lambda x: x.time())"
   ]
  },
  {
   "cell_type": "code",
   "execution_count": 14,
   "metadata": {},
   "outputs": [],
   "source": [
    "#make sure jobs are feasible after rounding\n",
    "intervals=get_time_intervals(intervalLength)\n",
    "df['TotalEnergy(KWh)']=df['TotalEnergy(KWh)'].apply(lambda x: np.round(x,2))\n",
    "df['MaxPower(KW)']=df['MaxPower(KW)'].apply(lambda x: np.round(x,2))\n",
    "\n",
    "df['arrivaltime_no']=df['arrival_time'].apply(lambda x: convertTimeToInterval(x,intervals))\n",
    "df['duetime_no']=df['due_time'].apply(lambda x: convertTimeToInterval(x,intervals))\n",
    "df['deviation']=((df['duetime_no']-df['arrivaltime_no'])*df['MaxPower(KW)']*np.round(5/60,2))-df['TotalEnergy(KWh)']\n",
    "df['time_till_due']=df['duetime_no']-df['arrivaltime_no']\n",
    "\n",
    "def applyNegdeviation(x):\n",
    "    if x['deviation']<0:\n",
    "        return x['TotalEnergy(KWh)'] + x['deviation']\n",
    "    else:\n",
    "        return x['TotalEnergy(KWh)']\n",
    "df['TotalEnergy(KWh)']=df.apply(lambda x:applyNegdeviation(x),axis=1)"
   ]
  },
  {
   "cell_type": "code",
   "execution_count": 15,
   "metadata": {},
   "outputs": [],
   "source": [
    "if save:\n",
    "    df.to_csv(\"data sets/preproc_charge_sessions.csv\")"
   ]
  },
  {
   "cell_type": "markdown",
   "metadata": {},
   "source": [
    "# Preprocess price data"
   ]
  },
  {
   "cell_type": "markdown",
   "metadata": {},
   "source": [
    "Day ahead data"
   ]
  },
  {
   "cell_type": "code",
   "execution_count": 16,
   "metadata": {},
   "outputs": [],
   "source": [
    "#convert fields\n",
    "priceDf['start_interval']=priceDf['\"MTU (CET)'].apply(lambda x:x.split('-')[0][1:])\n",
    "priceDf['start_interval']=priceDf['\"MTU (CET)'].apply(lambda x:x.split('-')[1])\n",
    "priceDf['price(EUR/MWh)']=priceDf['\"Day-ahead Price [EUR/MWh]\"\"\"'].apply(lambda x:(x.strip('\"')))\n",
    "priceDf=priceDf.drop(['\"MTU (CET)','\"Day-ahead Price [EUR/MWh]\"\"\"'],axis=1)"
   ]
  },
  {
   "cell_type": "code",
   "execution_count": 17,
   "metadata": {},
   "outputs": [],
   "source": [
    "#interpolate\n",
    "newPrices=[]\n",
    "prices=priceDf['price(EUR/MWh)'].values\n",
    "for i,price in zip(range(len(prices)),prices):\n",
    "    if price=='':\n",
    "        newPrices.append((float(prices[i-1])+float(prices[i+1]))/2)\n",
    "    else:\n",
    "        try:\n",
    "            newPrices.append(float(price))\n",
    "        except:\n",
    "            newPrices.append(0)\n",
    "priceDf['price(EUR/MWh)']=newPrices"
   ]
  },
  {
   "cell_type": "code",
   "execution_count": 18,
   "metadata": {},
   "outputs": [],
   "source": [
    "#calculate fields\n",
    "priceDf['price(EUR/KWh)']=priceDf['price(EUR/MWh)']/1000\n",
    "priceDf['start_interval']=pd.to_datetime(priceDf['start_interval'],yearfirst=True,dayfirst=True)\n",
    "priceDf['date']=priceDf['start_interval'].apply(lambda x:x.date())\n",
    "priceDf=priceDf.sort_values('start_interval')\n",
    "priceDf['day']=priceDf['date'].apply(lambda x: x.weekday())\n",
    "priceDf['hour']=priceDf['start_interval'].apply(lambda x: x.hour)\n",
    "priceDf['weekday']=priceDf['date'].apply(lambda x: x.weekday())\n",
    "\n",
    "#select 42 days\n",
    "startDate=list(priceDf[(priceDf['day']==0)&(priceDf['hour']==0)].index)\n",
    "priceDf=priceDf[startDate[0]:(startDate[0]+(42*24))]"
   ]
  },
  {
   "cell_type": "code",
   "execution_count": 19,
   "metadata": {},
   "outputs": [],
   "source": [
    "#calculate aggregation date\n",
    "dateToAggDay={}\n",
    "i=-1\n",
    "dates=list(priceDf['date'].unique())\n",
    "dates.sort()\n",
    "for date in list(priceDf['date'].unique()):\n",
    "    dateToAggDay[date]=i\n",
    "    i+=1\n",
    "priceDf['days_for_aggregation']=priceDf['date'].apply(lambda x:dateToAggDay[x])"
   ]
  },
  {
   "cell_type": "markdown",
   "metadata": {},
   "source": [
    "Intra day data"
   ]
  },
  {
   "cell_type": "code",
   "execution_count": 20,
   "metadata": {},
   "outputs": [],
   "source": [
    "#calculate fields\n",
    "intraDay['date']=intraDay['Product'].apply(lambda x: x[3:-6])\n",
    "intraDay['date']=pd.to_datetime(intraDay['date'])\n",
    "intraDay['Product']=intraDay['Product'].apply(lambda x:x if str(x).find('I')==-1 else \"None\")\n",
    "intraDay=intraDay[intraDay['Product']!=\"None\"]\n",
    "intraDay['day']=intraDay['date'].apply(lambda x: x.day)\n",
    "intraDay['month']=intraDay['date'].apply(lambda x: x.month)\n",
    "intraDay['year']=intraDay['date'].apply(lambda x: x.year)\n",
    "intraDay['hour']=intraDay['Product'].apply(lambda x: int(x[12:-3]))\n",
    "intraDay['hour']=intraDay['hour'].apply(lambda x: 0 if x==24 else x)\n",
    "intraDay['Avg']=intraDay['Avg'].apply(lambda x: x.replace(',','.'))\n",
    "intraDay['Avg']=intraDay['Avg'].astype(float)\n",
    "intraDay=intraDay[intraDay['Avg']!=0]\n",
    "\n",
    "intraDay['time']=intraDay['hour'].apply(lambda x: DateTime.time(x,0,0))\n",
    "intraDay['datetime']=pd.to_datetime(intraDay['date'].astype(str)+ ' ' + intraDay['time'].astype(str))\n",
    "intraDay=intraDay.sort_values(by='datetime')\n",
    "\n"
   ]
  },
  {
   "cell_type": "code",
   "execution_count": 21,
   "metadata": {},
   "outputs": [],
   "source": [
    "#fill missing value with value of previous hour\n",
    "newRows=[]\n",
    "for month in list(intraDay['month'].unique()):\n",
    "    for day in list(intraDay[intraDay['month']==month]['day'].unique()):\n",
    "        for hour in range(24):\n",
    "            if hour not in list(intraDay[(intraDay['month']==month)&(intraDay['day']==day)]['hour'].values):\n",
    "                newRow=intraDay[(intraDay['month']==month)&(intraDay['day']==day)&(intraDay['hour'].isin([hour-1]))][0:1]\n",
    "                newRow['hour']=hour\n",
    "                intraDay=intraDay.append(newRow,ignore_index=True)\n"
   ]
  },
  {
   "cell_type": "code",
   "execution_count": 22,
   "metadata": {},
   "outputs": [],
   "source": [
    "#calculate fields\n",
    "intraDay['time']=intraDay['hour'].apply(lambda x: DateTime.time(x,0,0))\n",
    "intraDay['datetime']=pd.to_datetime(intraDay['date'].astype(str)+ ' ' + intraDay['time'].astype(str))\n",
    "intraDf=intraDay.sort_values(by='datetime')\n",
    "try:\n",
    "    priceDf=priceDf.reset_index()\n",
    "except:\n",
    "    print(\"already reset\")\n",
    "try:\n",
    "    intraDf=intraDf.reset_index()\n",
    "except:\n",
    "    print(\"already reset\")\n",
    "intraDf['weekday']=intraDf['datetime'].apply(lambda x: x.weekday())\n",
    "intraDf['days_for_aggregation']=priceDf['days_for_aggregation']+1\n",
    "intraDf['price(EUR/KWh)']=intraDf['Avg']/1000"
   ]
  },
  {
   "cell_type": "code",
   "execution_count": 23,
   "metadata": {},
   "outputs": [],
   "source": [
    "if save:\n",
    "    priceDf.to_csv(\"data sets/day_ahead_price_pre_proc.csv\")\n",
    "    intraDf.to_csv(\"data sets/intra_day_price_pre_proc.csv\")"
   ]
  },
  {
   "cell_type": "code",
   "execution_count": null,
   "metadata": {},
   "outputs": [],
   "source": []
  }
 ],
 "metadata": {
  "kernelspec": {
   "display_name": "Python 3",
   "language": "python",
   "name": "python3"
  },
  "language_info": {
   "codemirror_mode": {
    "name": "ipython",
    "version": 3
   },
   "file_extension": ".py",
   "mimetype": "text/x-python",
   "name": "python",
   "nbconvert_exporter": "python",
   "pygments_lexer": "ipython3",
   "version": "3.6.5"
  }
 },
 "nbformat": 4,
 "nbformat_minor": 2
}
